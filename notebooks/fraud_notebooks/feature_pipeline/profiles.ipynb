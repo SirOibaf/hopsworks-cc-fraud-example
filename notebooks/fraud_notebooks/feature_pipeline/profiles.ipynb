{
 "cells": [
  {
   "cell_type": "code",
   "execution_count": null,
   "id": "e5952ff1",
   "metadata": {},
   "outputs": [],
   "source": [
    "import hsfs\n",
    "import pandas as pd"
   ]
  },
  {
   "cell_type": "code",
   "execution_count": null,
   "id": "43672b66",
   "metadata": {},
   "outputs": [],
   "source": [
    "connection = hsfs.connection()\n",
    "fs = connection.get_feature_store()"
   ]
  },
  {
   "cell_type": "code",
   "execution_count": null,
   "id": "3b377a10",
   "metadata": {},
   "outputs": [],
   "source": [
    "df = pd.read_csv(\"hdfs:///Projects/live_coding/RawData/profiles.csv\")"
   ]
  },
  {
   "cell_type": "code",
   "execution_count": null,
   "id": "008bf9dd",
   "metadata": {},
   "outputs": [],
   "source": [
    "def compute_age(birthdate: pd.Series) -> pd.Series:\n",
    "    from datetime import timedelta\n",
    "    \n",
    "    return (pd.to_datetime('2022-01-01 00:00:24') - pd.to_datetime(birthdate)) / timedelta(days=365)"
   ]
  },
  {
   "cell_type": "code",
   "execution_count": null,
   "id": "d145190b",
   "metadata": {},
   "outputs": [],
   "source": [
    "df['age'] = compute_age(df['birthdate'])\n",
    "df['event_time'] = pd.to_datetime('2024-03-06 00:00:24') # Hardcode date time for demo so PIT Join works as expected"
   ]
  },
  {
   "cell_type": "code",
   "execution_count": null,
   "id": "26c90f25",
   "metadata": {},
   "outputs": [],
   "source": [
    "df"
   ]
  },
  {
   "cell_type": "code",
   "execution_count": null,
   "id": "6598a7c4",
   "metadata": {},
   "outputs": [],
   "source": [
    "df = df[['cc_num', 'event_time', 'Country', 'age']]"
   ]
  },
  {
   "cell_type": "code",
   "execution_count": null,
   "id": "56ea6c90",
   "metadata": {},
   "outputs": [],
   "source": [
    "from great_expectations.core import ExpectationSuite, ExpectationConfiguration\n",
    "\n",
    "expectation_suite = ExpectationSuite(expectation_suite_name=\"profiles_suite\")\n",
    "\n",
    "expectation_suite.add_expectation(\n",
    "    ExpectationConfiguration(\n",
    "        expectation_type=\"expect_column_values_to_be_between\",\n",
    "        kwargs={\n",
    "            \"column\":\"age\", \n",
    "            \"min_value\":0,\n",
    "            \"max_value\":120,\n",
    "        }\n",
    "    )\n",
    ")"
   ]
  },
  {
   "cell_type": "code",
   "execution_count": null,
   "id": "3d48fc85",
   "metadata": {},
   "outputs": [],
   "source": [
    "df"
   ]
  },
  {
   "cell_type": "code",
   "execution_count": null,
   "id": "c26d8661",
   "metadata": {},
   "outputs": [],
   "source": [
    "profiles = fs.get_or_create_feature_group(\n",
    "    name=\"profiles\",\n",
    "    version=1,\n",
    "    description=\"Credit card owner profile\",\n",
    "    primary_key=['cc_num'],\n",
    "    partition_key=['country'],\n",
    "    event_time=\"event_time\",\n",
    "    online_enabled=True,\n",
    "    statistics_config={'histograms': True, 'correlations': True},\n",
    "    expectation_suite=expectation_suite\n",
    ")"
   ]
  },
  {
   "cell_type": "code",
   "execution_count": null,
   "id": "57a0ee25",
   "metadata": {},
   "outputs": [],
   "source": [
    "profiles.insert(df)"
   ]
  },
  {
   "cell_type": "code",
   "execution_count": null,
   "id": "c0681d4a",
   "metadata": {},
   "outputs": [],
   "source": [
    "feature_descriptions = [\n",
    "    {\"name\": \"cc_num\", \"description\": \"Number of the credit card performing the transaction\"},\n",
    "    {\"name\": \"country\", \"description\": \"Country of residence of the card holder\"},\n",
    "    {\"name\": \"age\", \"description\": \"Age of the card holder at the event time\"},\n",
    "]\n",
    "\n",
    "for desc in feature_descriptions: \n",
    "    profiles.update_feature_description(desc[\"name\"], desc[\"description\"])"
   ]
  },
  {
   "cell_type": "code",
   "execution_count": null,
   "id": "f44e856b",
   "metadata": {},
   "outputs": [],
   "source": []
  }
 ],
 "metadata": {
  "kernelspec": {
   "display_name": "Python 3",
   "language": "python",
   "name": "python3"
  },
  "language_info": {
   "codemirror_mode": {
    "name": "ipython",
    "version": 3
   },
   "file_extension": ".py",
   "mimetype": "text/x-python",
   "name": "python",
   "nbconvert_exporter": "python",
   "pygments_lexer": "ipython3",
   "version": "3.10.11"
  }
 },
 "nbformat": 4,
 "nbformat_minor": 5
}
