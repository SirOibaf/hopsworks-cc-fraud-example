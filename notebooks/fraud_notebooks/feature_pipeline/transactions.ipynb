{
 "cells": [
  {
   "cell_type": "code",
   "execution_count": 1,
   "id": "04639f3f",
   "metadata": {},
   "outputs": [
    {
     "name": "stdout",
     "output_type": "stream",
     "text": [
      "Starting Spark application\n"
     ]
    },
    {
     "data": {
      "text/html": [
       "<table>\n",
       "<tr><th>ID</th><th>Application ID</th><th>Kind</th><th>State</th><th>Spark UI</th><th>Driver log</th></tr><tr><td>11</td><td>application_1709657904861_0024</td><td>pyspark</td><td>idle</td><td><a target=\"_blank\" href=\"/hopsworks-api/yarnui/https://ip-172-16-4-223.us-east-2.compute.internal:8089/proxy/application_1709657904861_0024/\">Link</a></td><td><a target=\"_blank\" href=\"/hopsworks-api/yarnui/https://ip-172-16-4-197.us-east-2.compute.internal:8044/node/containerlogs/container_e02_1709657904861_0024_01_000001/live_coding__fabiopoc\">Link</a></td></tr></table>"
      ],
      "text/plain": [
       "<IPython.core.display.HTML object>"
      ]
     },
     "metadata": {},
     "output_type": "display_data"
    },
    {
     "name": "stdout",
     "output_type": "stream",
     "text": [
      "SparkSession available as 'spark'.\n"
     ]
    }
   ],
   "source": [
    "import hsfs\n",
    "import pandas as pd\n",
    "from pyspark.sql import functions as F\n",
    "from pyspark.sql.types import * "
   ]
  },
  {
   "cell_type": "code",
   "execution_count": 2,
   "id": "39709ba6",
   "metadata": {},
   "outputs": [],
   "source": [
    "from fraud.features.transactions.transactions import transaction_abroad\n",
    "\n",
    "# Defined here for completeness\n",
    "# def transaction_abroad(issuer_country: pd.Series, transaction_country: pd.Series) -> pd.Series:\n",
    "#     return (issuer_country != transaction_country).replace({True: 1, False: 0})"
   ]
  },
  {
   "cell_type": "code",
   "execution_count": 3,
   "id": "107221ea",
   "metadata": {},
   "outputs": [
    {
     "name": "stdout",
     "output_type": "stream",
     "text": [
      "Connected. Call `.close()` to terminate connection gracefully."
     ]
    }
   ],
   "source": [
    "connection = hsfs.connection()\n",
    "fs = connection.get_feature_store()"
   ]
  },
  {
   "cell_type": "code",
   "execution_count": 4,
   "id": "81a3e7b8",
   "metadata": {},
   "outputs": [],
   "source": [
    "transactions_df = spark.read.format(\"csv\") \\\n",
    "    .option(\"header\", \"true\") \\\n",
    "    .option(\"inferSchema\", \"true\") \\\n",
    "    .load(\"hdfs:///Projects/live_coding/RawData/transactions.csv\")"
   ]
  },
  {
   "cell_type": "code",
   "execution_count": 5,
   "id": "c44683c6",
   "metadata": {},
   "outputs": [
    {
     "name": "stdout",
     "output_type": "stream",
     "text": [
      "root\n",
      " |-- tid: string (nullable = true)\n",
      " |-- datetime: string (nullable = true)\n",
      " |-- cc_num: long (nullable = true)\n",
      " |-- category: string (nullable = true)\n",
      " |-- amount: double (nullable = true)\n",
      " |-- latitude: double (nullable = true)\n",
      " |-- longitude: double (nullable = true)\n",
      " |-- city: string (nullable = true)\n",
      " |-- country: string (nullable = true)\n",
      " |-- fraud_label: integer (nullable = true)"
     ]
    }
   ],
   "source": [
    "transactions_df.printSchema()"
   ]
  },
  {
   "cell_type": "code",
   "execution_count": 6,
   "id": "20d2564f",
   "metadata": {},
   "outputs": [
    {
     "name": "stdout",
     "output_type": "stream",
     "text": [
      "419120"
     ]
    }
   ],
   "source": [
    "transactions_df.count()"
   ]
  },
  {
   "cell_type": "code",
   "execution_count": 7,
   "id": "9436d88f",
   "metadata": {},
   "outputs": [
    {
     "name": "stdout",
     "output_type": "stream",
     "text": [
      "+--------------------+-------------------+----------------+-------------+------+--------+---------+------+-------+-----------+\n",
      "|                 tid|           datetime|          cc_num|     category|amount|latitude|longitude|  city|country|fraud_label|\n",
      "+--------------------+-------------------+----------------+-------------+------+--------+---------+------+-------+-----------+\n",
      "|11df919988c134d97...|2022-01-01 00:00:24|4473593503484549|Health/Beauty| 62.95|42.30865|-83.48216|Canton|     US|          0|\n",
      "+--------------------+-------------------+----------------+-------------+------+--------+---------+------+-------+-----------+\n",
      "only showing top 1 row"
     ]
    }
   ],
   "source": [
    "transactions_df.show(1)"
   ]
  },
  {
   "cell_type": "code",
   "execution_count": 8,
   "id": "20618bd8",
   "metadata": {},
   "outputs": [],
   "source": [
    "# Read the profiles feature group to get the location of the credit card owner\n",
    "profiles_fg = fs.get_feature_group(\"profiles\", 1)\n",
    "profiles_df = profiles_fg.select([\"cc_num\", \"country\"]).read()"
   ]
  },
  {
   "cell_type": "code",
   "execution_count": 9,
   "id": "2a9de90c",
   "metadata": {},
   "outputs": [],
   "source": [
    "transactions_df = transactions_df.join(\n",
    "    profiles_df.selectExpr([\"cc_num\", \"country as issuer_country\"]), \n",
    "    on=\"cc_num\"\n",
    ")"
   ]
  },
  {
   "cell_type": "code",
   "execution_count": 10,
   "id": "ed3aeb32",
   "metadata": {},
   "outputs": [
    {
     "name": "stdout",
     "output_type": "stream",
     "text": [
      "DataFrame[cc_num: bigint, tid: string, datetime: string, category: string, amount: double, latitude: double, longitude: double, city: string, country: string, fraud_label: int, issuer_country: string]"
     ]
    }
   ],
   "source": [
    "transactions_df"
   ]
  },
  {
   "cell_type": "code",
   "execution_count": 11,
   "id": "6158dacf",
   "metadata": {},
   "outputs": [
    {
     "name": "stdout",
     "output_type": "stream",
     "text": [
      "DeprecationWarning: distutils Version classes are deprecated. Use packaging.version instead.\n",
      "DeprecationWarning: distutils Version classes are deprecated. Use packaging.version instead."
     ]
    }
   ],
   "source": [
    "transaction_abroad_udf = F.pandas_udf(transaction_abroad, IntegerType())"
   ]
  },
  {
   "cell_type": "code",
   "execution_count": 12,
   "id": "09c13bee",
   "metadata": {},
   "outputs": [],
   "source": [
    "df = (\n",
    "    transactions_df.withColumn(\n",
    "        \"event_time\",\n",
    "        F.to_timestamp(F.lit(\"2024-03-07 00:00:24\"), format=\"yyyy-MM-dd HH:mm:ss\"),\n",
    "    )\n",
    "    .withColumn(\n",
    "        \"is_transaction_abroad\", transaction_abroad_udf(\"issuer_country\", \"country\")\n",
    "    )\n",
    "    .select(\n",
    "        \"tid\",\n",
    "        \"event_time\",\n",
    "        \"fraud_label\",\n",
    "        \"cc_num\",\n",
    "        \"amount\",\n",
    "        \"category\",\n",
    "        \"is_transaction_abroad\",\n",
    "    )\n",
    ")"
   ]
  },
  {
   "cell_type": "code",
   "execution_count": 13,
   "id": "bb9f747d",
   "metadata": {},
   "outputs": [
    {
     "name": "stdout",
     "output_type": "stream",
     "text": [
      "+--------------------+-------------------+-----------+----------------+------+--------+---------------------+\n",
      "|                 tid|         event_time|fraud_label|          cc_num|amount|category|is_transaction_abroad|\n",
      "+--------------------+-------------------+-----------+----------------+------+--------+---------------------+\n",
      "|6ebf5f57f64179693...|2024-03-07 00:00:24|          0|4115917870347217| 49.44| Grocery|                    0|\n",
      "+--------------------+-------------------+-----------+----------------+------+--------+---------------------+\n",
      "only showing top 1 row"
     ]
    }
   ],
   "source": [
    "df.show(1)"
   ]
  },
  {
   "cell_type": "code",
   "execution_count": 14,
   "id": "d93045d5",
   "metadata": {},
   "outputs": [],
   "source": [
    "transactions = fs.get_or_create_feature_group(\n",
    "    name=\"transactions\",\n",
    "    version=1,\n",
    "    description=\"Credit card transactions with label\",\n",
    "    primary_key=['tid'],\n",
    "    event_time=\"event_time\",\n",
    "    online_enabled=True,\n",
    "    parents=[profiles_fg],\n",
    "    statistics_config={'histograms': True, 'correlations': True},\n",
    ")"
   ]
  },
  {
   "cell_type": "code",
   "execution_count": 15,
   "id": "82161932",
   "metadata": {},
   "outputs": [
    {
     "name": "stdout",
     "output_type": "stream",
     "text": [
      "(None, None)"
     ]
    }
   ],
   "source": [
    "transactions.insert(df)"
   ]
  },
  {
   "cell_type": "code",
   "execution_count": null,
   "id": "7783554a",
   "metadata": {},
   "outputs": [],
   "source": []
  }
 ],
 "metadata": {
  "kernelspec": {
   "display_name": "PySpark",
   "language": "python",
   "name": "pysparkkernel"
  },
  "language_info": {
   "codemirror_mode": {
    "name": "python",
    "version": 3
   },
   "mimetype": "text/x-python",
   "name": "pyspark",
   "pygments_lexer": "python3"
  }
 },
 "nbformat": 4,
 "nbformat_minor": 5
}
