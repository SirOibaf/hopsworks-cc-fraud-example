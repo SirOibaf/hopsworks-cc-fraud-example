{
 "cells": [
  {
   "cell_type": "code",
   "execution_count": null,
   "id": "f7970eca",
   "metadata": {},
   "outputs": [],
   "source": [
    "import hopsworks\n",
    "from hops import kafka, tls\n",
    "\n",
    "from pyspark.sql.types import * \n",
    "from pyspark.sql.functions import * "
   ]
  },
  {
   "cell_type": "code",
   "execution_count": null,
   "id": "48ce4367",
   "metadata": {},
   "outputs": [],
   "source": [
    "project = hopsworks.login()\n",
    "fs = project.get_feature_store()"
   ]
  },
  {
   "cell_type": "code",
   "execution_count": null,
   "id": "7d3beb39",
   "metadata": {},
   "outputs": [],
   "source": [
    "KAFKA_TOPIC_NAME = \"live_card_transactions\""
   ]
  },
  {
   "cell_type": "code",
   "execution_count": null,
   "id": "b2b32216",
   "metadata": {},
   "outputs": [],
   "source": [
    "parse_schema = StructType([StructField('tid', StringType(), True),\n",
    "                           StructField('datetime', TimestampType(), True),\n",
    "                           StructField('cc_num', StringType(), True),\n",
    "                           StructField('amount', StringType(), True)])"
   ]
  },
  {
   "cell_type": "code",
   "execution_count": null,
   "id": "83a7d78a",
   "metadata": {},
   "outputs": [],
   "source": [
    "kafka_connector = fs.get_storage_connector(\"demo_kafka\")"
   ]
  },
  {
   "cell_type": "code",
   "execution_count": null,
   "id": "e4aae252",
   "metadata": {},
   "outputs": [],
   "source": [
    "df_read = kafka_connector.read_stream(topic = KAFKA_TOPIC_NAME, \n",
    "                                      options={\"kafka.group.id\": \"live-1\", \"startingOffset\": \"earliest\"})"
   ]
  },
  {
   "cell_type": "code",
   "execution_count": null,
   "id": "5a64fee2",
   "metadata": {},
   "outputs": [],
   "source": [
    "df_deser = (\n",
    "    df_read.selectExpr(\"CAST(value AS STRING)\")\n",
    "    .select(from_json(\"value\", parse_schema).alias(\"value\"))\n",
    "    .select(\"value.tid\", \"value.datetime\", \"value.cc_num\", \"value.amount\")\n",
    ")"
   ]
  },
  {
   "cell_type": "code",
   "execution_count": null,
   "id": "afb9d71c",
   "metadata": {},
   "outputs": [],
   "source": [
    "windowed10mSignalDF = (\n",
    "    df_deser.withWatermark(\"datetime\", \"10 minutes\")\n",
    "    .groupBy(window(\"datetime\", \"10 minutes\", \"1 minute\"), \"cc_num\")\n",
    "    .agg(\n",
    "        avg(\"amount\").alias(\"avg_amt_per_10m\"),\n",
    "        stddev(\"amount\").alias(\"stdev_amt_per_10m\"),\n",
    "        count(\"cc_num\").alias(\"num_trans_per_10m\"),\n",
    "    )\n",
    "    .selectExpr(\n",
    "        \"cc_num\",\n",
    "        \"current_timestamp() as datetime\",\n",
    "        \"num_trans_per_10m\",\n",
    "        \"avg_amt_per_10m\",\n",
    "        \"stdev_amt_per_10m\",\n",
    "    )\n",
    ")"
   ]
  },
  {
   "cell_type": "code",
   "execution_count": null,
   "id": "d1a29185",
   "metadata": {},
   "outputs": [],
   "source": [
    "windowed5mSignalDF.printSchema()"
   ]
  },
  {
   "cell_type": "code",
   "execution_count": null,
   "id": "923f7384",
   "metadata": {},
   "outputs": [],
   "source": [
    "profiles_activity_10m = fs.get_or_create_feature_group(\n",
    "    name=\"profiles_activity_10m\",\n",
    "    version=7,\n",
    "    description=\"Credit card activity over 10 minutes window (sliding window 1 minute)\",\n",
    "    primary_key=['cc_num'],\n",
    "    event_time=\"datetime\",\n",
    "    online_enabled=True,\n",
    "    statistics_config={'histograms': True, 'correlations': True},\n",
    "    stream=True\n",
    ")"
   ]
  },
  {
   "cell_type": "code",
   "execution_count": null,
   "id": "643e0dc7",
   "metadata": {},
   "outputs": [],
   "source": [
    "query = profiles_activity_10m.insert_stream(windowed10mSignalDF)"
   ]
  },
  {
   "cell_type": "code",
   "execution_count": null,
   "id": "866d46c5",
   "metadata": {},
   "outputs": [],
   "source": [
    "query.isActive"
   ]
  },
  {
   "cell_type": "code",
   "execution_count": null,
   "id": "dad46247",
   "metadata": {},
   "outputs": [],
   "source": [
    "query.status"
   ]
  }
 ],
 "metadata": {
  "kernelspec": {
   "display_name": "PySpark",
   "language": "python",
   "name": "pysparkkernel"
  },
  "language_info": {
   "codemirror_mode": {
    "name": "python",
    "version": 3
   },
   "mimetype": "text/x-python",
   "name": "pyspark",
   "pygments_lexer": "python3"
  }
 },
 "nbformat": 4,
 "nbformat_minor": 5
}
