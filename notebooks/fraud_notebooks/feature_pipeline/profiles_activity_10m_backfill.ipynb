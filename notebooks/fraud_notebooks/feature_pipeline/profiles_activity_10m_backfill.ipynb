{
 "cells": [
  {
   "cell_type": "code",
   "execution_count": null,
   "id": "f34317a2",
   "metadata": {},
   "outputs": [],
   "source": [
    "import hsfs\n",
    "import pandas as pd"
   ]
  },
  {
   "cell_type": "code",
   "execution_count": null,
   "id": "1e17af44",
   "metadata": {},
   "outputs": [],
   "source": [
    "connection = hsfs.connection()\n",
    "fs = connection.get_feature_store()"
   ]
  },
  {
   "cell_type": "code",
   "execution_count": null,
   "id": "66bf1ea3",
   "metadata": {},
   "outputs": [],
   "source": [
    "pdf = pd.read_csv(\"hdfs:///Projects/live_coding/RawData/transactions.csv\", parse_dates=[\"datetime\"])"
   ]
  },
  {
   "cell_type": "code",
   "execution_count": null,
   "id": "c3905256",
   "metadata": {},
   "outputs": [],
   "source": [
    "pdf.sort_values(\"datetime\", inplace=True)"
   ]
  },
  {
   "cell_type": "code",
   "execution_count": null,
   "id": "f5761e5e",
   "metadata": {},
   "outputs": [],
   "source": [
    "pdf = pdf[['datetime', 'amount', 'cc_num']]"
   ]
  },
  {
   "cell_type": "code",
   "execution_count": null,
   "id": "02b94045",
   "metadata": {},
   "outputs": [],
   "source": [
    "roll_group_by = pdf.groupby(\"cc_num\").rolling(\"10min\", on=\"datetime\")"
   ]
  },
  {
   "cell_type": "code",
   "execution_count": null,
   "id": "eefba5bb",
   "metadata": {},
   "outputs": [],
   "source": [
    "roll_group_by.count()"
   ]
  },
  {
   "cell_type": "code",
   "execution_count": null,
   "id": "242d9f87",
   "metadata": {},
   "outputs": [],
   "source": [
    "df_10_count = pd.DataFrame(roll_group_by.count())\n",
    "df_10_count.reset_index(level=[\"cc_num\"], inplace=True)\n",
    "df_10_count.sort_index(inplace=True)\n",
    "df_10_count.rename(columns={\"amount\": \"num_trans_per_10m\"}, inplace=True)"
   ]
  },
  {
   "cell_type": "code",
   "execution_count": null,
   "id": "600d8858",
   "metadata": {},
   "outputs": [],
   "source": [
    "df_10_avg = pd.DataFrame(roll_group_by.mean())\n",
    "df_10_avg.reset_index(level=[\"cc_num\"], inplace=True)\n",
    "df_10_avg.sort_index(inplace=True)\n",
    "df_10_avg.rename(columns={\"amount\": \"avg_amt_per_10m\"}, inplace=True)"
   ]
  },
  {
   "cell_type": "code",
   "execution_count": null,
   "id": "53120caa",
   "metadata": {},
   "outputs": [],
   "source": [
    "df_10_std = pd.DataFrame(roll_group_by.std())\n",
    "df_10_std.reset_index(level=[\"cc_num\"], inplace=True)\n",
    "df_10_std.sort_index(inplace=True)\n",
    "df_10_std.rename(columns={\"amount\": \"stdev_amt_per_10m\"}, inplace=True)"
   ]
  },
  {
   "cell_type": "code",
   "execution_count": null,
   "id": "da5e4970",
   "metadata": {},
   "outputs": [],
   "source": [
    "df_10_std"
   ]
  },
  {
   "cell_type": "code",
   "execution_count": null,
   "id": "84b155bc",
   "metadata": {},
   "outputs": [],
   "source": [
    "mrg = df_10_count.merge(df_10_avg)"
   ]
  },
  {
   "cell_type": "code",
   "execution_count": null,
   "id": "ecc4e6c1",
   "metadata": {},
   "outputs": [],
   "source": [
    "final_df = mrg.merge(df_10_std, on=['cc_num', 'datetime'])"
   ]
  },
  {
   "cell_type": "code",
   "execution_count": null,
   "id": "4791a1b1",
   "metadata": {},
   "outputs": [],
   "source": [
    "final_df['datetime'] = pd.Timestamp.now()"
   ]
  },
  {
   "cell_type": "code",
   "execution_count": null,
   "id": "1e74db91",
   "metadata": {},
   "outputs": [],
   "source": [
    "final_df"
   ]
  },
  {
   "cell_type": "code",
   "execution_count": null,
   "id": "439584af",
   "metadata": {},
   "outputs": [],
   "source": [
    "profiles_activity_10m = fs.get_or_create_feature_group(\n",
    "    name=\"profiles_activity_10m\",\n",
    "    version=1,\n",
    "    description=\"Credit card activity over 10 minutes window\",\n",
    "    primary_key=['cc_num'],\n",
    "    event_time=\"datetime\",\n",
    "    online_enabled=True,\n",
    "    statistics_config={'histograms': True, 'correlations': True},\n",
    "    stream=True\n",
    ")"
   ]
  },
  {
   "cell_type": "code",
   "execution_count": null,
   "id": "5660bc68",
   "metadata": {},
   "outputs": [],
   "source": [
    "profiles_activity_10m.insert(final_df)"
   ]
  },
  {
   "cell_type": "code",
   "execution_count": null,
   "id": "888ef673",
   "metadata": {},
   "outputs": [],
   "source": []
  }
 ],
 "metadata": {
  "kernelspec": {
   "display_name": "Python 3",
   "language": "python",
   "name": "python3"
  },
  "language_info": {
   "codemirror_mode": {
    "name": "ipython",
    "version": 3
   },
   "file_extension": ".py",
   "mimetype": "text/x-python",
   "name": "python",
   "nbconvert_exporter": "python",
   "pygments_lexer": "ipython3",
   "version": "3.10.11"
  }
 },
 "nbformat": 4,
 "nbformat_minor": 5
}
