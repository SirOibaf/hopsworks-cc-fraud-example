{
 "cells": [
  {
   "cell_type": "code",
   "execution_count": null,
   "id": "858ec2cd",
   "metadata": {},
   "outputs": [],
   "source": [
    "import hopsworks\n",
    "project = hopsworks.login()"
   ]
  },
  {
   "cell_type": "code",
   "execution_count": null,
   "id": "acb0ce9e",
   "metadata": {},
   "outputs": [],
   "source": [
    "fs = project.get_feature_store()"
   ]
  },
  {
   "cell_type": "code",
   "execution_count": null,
   "id": "8fd16b8e",
   "metadata": {},
   "outputs": [],
   "source": [
    "fg = fs.get_feature_group(\"transactions\", version=1)"
   ]
  },
  {
   "cell_type": "code",
   "execution_count": null,
   "id": "d8aa8662",
   "metadata": {},
   "outputs": [],
   "source": [
    "fg.update_notification_topic_name(\"transaction_fg_notifications\")"
   ]
  }
 ],
 "metadata": {
  "kernelspec": {
   "display_name": "Python 3",
   "language": "python",
   "name": "python3"
  },
  "language_info": {
   "codemirror_mode": {
    "name": "ipython",
    "version": 3
   },
   "file_extension": ".py",
   "mimetype": "text/x-python",
   "name": "python",
   "nbconvert_exporter": "python",
   "pygments_lexer": "ipython3",
   "version": "3.10.11"
  }
 },
 "nbformat": 4,
 "nbformat_minor": 5
}
