{
 "cells": [
  {
   "cell_type": "code",
   "execution_count": null,
   "id": "72c8ffd7",
   "metadata": {},
   "outputs": [],
   "source": [
    "import confluent_kafka\n",
    "import hopsworks\n",
    "import json"
   ]
  },
  {
   "cell_type": "code",
   "execution_count": null,
   "id": "53bdec78",
   "metadata": {},
   "outputs": [],
   "source": [
    "project = hopsworks.login()\n",
    "fs = project.get_feature_store()"
   ]
  },
  {
   "cell_type": "code",
   "execution_count": null,
   "id": "1d2c73e3",
   "metadata": {},
   "outputs": [],
   "source": [
    "mr = project.get_model_registry()"
   ]
  },
  {
   "cell_type": "code",
   "execution_count": null,
   "id": "126bd919",
   "metadata": {},
   "outputs": [],
   "source": [
    "storage_connector = fs.get_storage_connector(\"demo_kafka\")\n",
    "\n",
    "config = storage_connector.confluent_options()\n",
    "config[\"group.id\"] = \"fabio_reader4\"\n",
    "config[\"auto.offset.reset\"] = \"smallest\"\n",
    "\n",
    "consumer = confluent_kafka.Consumer(config)\n",
    "consumer.subscribe([\"transaction_fg_notifications\"])"
   ]
  },
  {
   "cell_type": "code",
   "execution_count": null,
   "id": "a028b06a",
   "metadata": {},
   "outputs": [],
   "source": [
    "run = True\n",
    "data = []\n",
    "while run:\n",
    "    msg = consumer.poll(timeout=10)\n",
    "    if msg is not None:\n",
    "        data.append(msg.value())\n",
    "    else:\n",
    "        run = False"
   ]
  },
  {
   "cell_type": "code",
   "execution_count": null,
   "id": "45fac2de",
   "metadata": {},
   "outputs": [],
   "source": [
    "data"
   ]
  },
  {
   "cell_type": "code",
   "execution_count": null,
   "id": "cfb9fbfa",
   "metadata": {},
   "outputs": [],
   "source": [
    "msg = json.loads(data[1].decode(\"utf-8\"))"
   ]
  },
  {
   "cell_type": "code",
   "execution_count": null,
   "id": "84bb624a",
   "metadata": {},
   "outputs": [],
   "source": [
    "msg"
   ]
  },
  {
   "cell_type": "code",
   "execution_count": null,
   "id": "5fc9e796",
   "metadata": {},
   "outputs": [],
   "source": []
  }
 ],
 "metadata": {
  "kernelspec": {
   "display_name": "Python 3",
   "language": "python",
   "name": "python3"
  },
  "language_info": {
   "codemirror_mode": {
    "name": "ipython",
    "version": 3
   },
   "file_extension": ".py",
   "mimetype": "text/x-python",
   "name": "python",
   "nbconvert_exporter": "python",
   "pygments_lexer": "ipython3",
   "version": "3.10.11"
  }
 },
 "nbformat": 4,
 "nbformat_minor": 5
}
