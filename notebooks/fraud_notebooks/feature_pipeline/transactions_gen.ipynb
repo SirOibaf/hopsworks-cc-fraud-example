{
 "cells": [
  {
   "cell_type": "code",
   "execution_count": null,
   "id": "abcdf70b",
   "metadata": {},
   "outputs": [],
   "source": [
    "import hopsworks\n",
    "import pandas as pd\n",
    "import json\n",
    "\n",
    "from confluent_kafka import Producer"
   ]
  },
  {
   "cell_type": "code",
   "execution_count": null,
   "id": "8060b211",
   "metadata": {},
   "outputs": [],
   "source": [
    "project = hopsworks.login()"
   ]
  },
  {
   "cell_type": "code",
   "execution_count": null,
   "id": "663f6cda",
   "metadata": {},
   "outputs": [],
   "source": [
    "pdf = pd.read_csv(\"hdfs:///Projects/live_coding/RawData/transactions.csv\")"
   ]
  },
  {
   "cell_type": "code",
   "execution_count": null,
   "id": "94241d67",
   "metadata": {},
   "outputs": [],
   "source": [
    "pdf.head(10)"
   ]
  },
  {
   "cell_type": "code",
   "execution_count": null,
   "id": "b2adfb90",
   "metadata": {},
   "outputs": [],
   "source": [
    "pdf = pdf[['tid', 'datetime', 'amount', 'cc_num']]"
   ]
  },
  {
   "cell_type": "code",
   "execution_count": null,
   "id": "e6deb229",
   "metadata": {},
   "outputs": [],
   "source": [
    "pdf['datetime'] = pd.Timestamp.now() # Simulate incoming transactions "
   ]
  },
  {
   "cell_type": "code",
   "execution_count": null,
   "id": "c0456b69",
   "metadata": {},
   "outputs": [],
   "source": [
    "pdf['datetime'] = pdf.datetime.map(lambda x: x.strftime('%Y-%m-%d %H:%M:%S'))"
   ]
  },
  {
   "cell_type": "code",
   "execution_count": null,
   "id": "20ff7cbc",
   "metadata": {},
   "outputs": [],
   "source": [
    "kafka_api = project.get_kafka_api()"
   ]
  },
  {
   "cell_type": "code",
   "execution_count": null,
   "id": "51f64acb",
   "metadata": {},
   "outputs": [],
   "source": [
    "config = kafka_api.get_default_config()"
   ]
  },
  {
   "cell_type": "code",
   "execution_count": null,
   "id": "50b393c6",
   "metadata": {},
   "outputs": [],
   "source": [
    "config"
   ]
  },
  {
   "cell_type": "code",
   "execution_count": null,
   "id": "e813078e",
   "metadata": {},
   "outputs": [],
   "source": [
    "producer = Producer(config)"
   ]
  },
  {
   "cell_type": "code",
   "execution_count": null,
   "id": "239dfbc5",
   "metadata": {},
   "outputs": [],
   "source": [
    "data = json.loads(pdf.to_json(orient=\"records\"))"
   ]
  },
  {
   "cell_type": "code",
   "execution_count": null,
   "id": "feebfe4c",
   "metadata": {},
   "outputs": [],
   "source": [
    "data[:5]"
   ]
  },
  {
   "cell_type": "code",
   "execution_count": null,
   "id": "b1f7e234",
   "metadata": {},
   "outputs": [],
   "source": [
    "batch_size = 0\n",
    "for t in data:\n",
    "    producer.produce(\"live_card_transactions\", json.dumps(t))\n",
    "    batch_size += 1\n",
    "    \n",
    "    if batch_size == 100:\n",
    "        producer.flush()\n",
    "        batch_size = 0"
   ]
  },
  {
   "cell_type": "code",
   "execution_count": null,
   "id": "ac20a803",
   "metadata": {},
   "outputs": [],
   "source": []
  }
 ],
 "metadata": {
  "kernelspec": {
   "display_name": "Python 3",
   "language": "python",
   "name": "python3"
  },
  "language_info": {
   "codemirror_mode": {
    "name": "ipython",
    "version": 3
   },
   "file_extension": ".py",
   "mimetype": "text/x-python",
   "name": "python",
   "nbconvert_exporter": "python",
   "pygments_lexer": "ipython3",
   "version": "3.10.11"
  }
 },
 "nbformat": 4,
 "nbformat_minor": 5
}
