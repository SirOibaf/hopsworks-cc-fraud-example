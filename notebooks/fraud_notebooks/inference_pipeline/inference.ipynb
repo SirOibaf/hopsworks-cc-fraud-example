{
 "cells": [
  {
   "cell_type": "code",
   "execution_count": null,
   "id": "29e421f9",
   "metadata": {},
   "outputs": [],
   "source": [
    "import hsfs\n",
    "import pandas as pd\n",
    "conn = hsfs.connection()\n",
    "fs = conn.get_feature_store()"
   ]
  },
  {
   "cell_type": "code",
   "execution_count": null,
   "id": "631fb97a",
   "metadata": {},
   "outputs": [],
   "source": [
    "inputs = {\n",
    "    'cc_num': 4738877982476642,\n",
    "    'amount': 123,\n",
    "    'category': 'Cash Withdrawal',\n",
    "    'country': 'US'\n",
    "}"
   ]
  },
  {
   "cell_type": "code",
   "execution_count": null,
   "id": "6efaa487",
   "metadata": {},
   "outputs": [],
   "source": [
    "fraud_fv = fs.get_feature_view(\"fraud_model\", 1)\n",
    "profiles_country_fv = fs.get_feature_view(\"profiles_country\", 1)"
   ]
  },
  {
   "cell_type": "code",
   "execution_count": null,
   "id": "fc73560f",
   "metadata": {},
   "outputs": [],
   "source": [
    "from fraud.features.transactions.transactions import transaction_abroad"
   ]
  },
  {
   "cell_type": "code",
   "execution_count": null,
   "id": "b0265567",
   "metadata": {},
   "outputs": [],
   "source": [
    "def transaction_abroad(issuer_country: pd.Series, transaction_country: pd.Series) -> pd.Series:\n",
    "    return (issuer_country != transaction_country).replace({True: 1, False: 0})"
   ]
  },
  {
   "cell_type": "code",
   "execution_count": null,
   "id": "7b525205",
   "metadata": {},
   "outputs": [],
   "source": [
    "country = profiles_country_fv.get_feature_vector(entry={'cc_num': 4738877982476642})[0]"
   ]
  },
  {
   "cell_type": "code",
   "execution_count": null,
   "id": "8f049453",
   "metadata": {},
   "outputs": [],
   "source": [
    "country"
   ]
  },
  {
   "cell_type": "code",
   "execution_count": null,
   "id": "0b2ed6fe",
   "metadata": {},
   "outputs": [],
   "source": [
    "is_transaction_abroad = transaction_abroad(pd.Series(data=inputs['country']), pd.Series(data=country))"
   ]
  },
  {
   "cell_type": "code",
   "execution_count": null,
   "id": "87addfe0",
   "metadata": {},
   "outputs": [],
   "source": [
    "is_transaction_abroad"
   ]
  },
  {
   "cell_type": "code",
   "execution_count": null,
   "id": "1c77ea2e",
   "metadata": {},
   "outputs": [],
   "source": [
    "feature_vector = fraud_fv.get_feature_vector(entry={'cc_num': 4738877982476642},\n",
    "                      passed_features={\n",
    "                          'amount': 123,\n",
    "                          'category': 'Cash Withdrawal',\n",
    "                          'is_transaction_abroad': is_transaction_abroad[0],\n",
    "                      },\n",
    "                      return_type=\"pandas\",\n",
    "                )\n",
    "\n",
    "feature_vector['cc_num'] = 4738877982476642\n",
    "feature_vector['event_time'] = pd.Timestamp.now()\n",
    "feature_vector['prediction'] = 0"
   ]
  },
  {
   "cell_type": "code",
   "execution_count": null,
   "id": "1acec95c",
   "metadata": {},
   "outputs": [],
   "source": [
    "fg = fs.create_feature_group(\n",
    "    name=\"monitoring_fraud_model\",\n",
    "    version=2,\n",
    "    description=\"Feature group monitoring fraud model deployment\",\n",
    "    primary_key=['cc_num'],\n",
    "    event_time=\"event_time\",\n",
    "    statistics_config=True,\n",
    ")"
   ]
  },
  {
   "cell_type": "code",
   "execution_count": null,
   "id": "c24dfcbc",
   "metadata": {},
   "outputs": [],
   "source": [
    "fg.save(feature_vector)"
   ]
  },
  {
   "cell_type": "code",
   "execution_count": null,
   "id": "919748cf",
   "metadata": {},
   "outputs": [],
   "source": []
  }
 ],
 "metadata": {
  "kernelspec": {
   "display_name": "Python 3",
   "language": "python",
   "name": "python3"
  },
  "language_info": {
   "codemirror_mode": {
    "name": "ipython",
    "version": 3
   },
   "file_extension": ".py",
   "mimetype": "text/x-python",
   "name": "python",
   "nbconvert_exporter": "python",
   "pygments_lexer": "ipython3",
   "version": "3.10.11"
  }
 },
 "nbformat": 4,
 "nbformat_minor": 5
}
