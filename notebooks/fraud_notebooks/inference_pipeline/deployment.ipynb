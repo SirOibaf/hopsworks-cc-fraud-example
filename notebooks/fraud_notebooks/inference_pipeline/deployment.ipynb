{
 "cells": [
  {
   "cell_type": "code",
   "execution_count": null,
   "id": "be080022",
   "metadata": {},
   "outputs": [],
   "source": [
    "import hopsworks\n",
    "import os\n",
    "project = hopsworks.login()\n",
    "mr = project.get_model_registry()\n",
    "\n",
    "# get model object\n",
    "model = mr.get_model(\"xgboost_fraud_online_model\", version=1)"
   ]
  },
  {
   "cell_type": "code",
   "execution_count": null,
   "id": "c9f679ce",
   "metadata": {},
   "outputs": [],
   "source": [
    "%%writefile /tmp/predict_example.py\n",
    "import os\n",
    "import numpy as np\n",
    "import pandas as pd\n",
    "import hsfs\n",
    "import joblib\n",
    "\n",
    "# On demand feature\n",
    "from fraud.features.transactions.transactions import transaction_abroad\n",
    "\n",
    "\n",
    "class Predict(object):\n",
    "\n",
    "    def __init__(self):\n",
    "        \"\"\" Initializes the serving state, reads a trained model\"\"\"        \n",
    "        # get feature store handle\n",
    "        fs_conn = hsfs.connection()\n",
    "        fs = fs_conn.get_feature_store()\n",
    "        \n",
    "        # get feature view\n",
    "        self.fraud_fv = fs.get_feature_view(\"fraud_model\", 1)\n",
    "        self.profiles_country_fv = fs.get_feature_view(\"profiles_country\", 1)\n",
    "        \n",
    "        # initialize serving\n",
    "        self.fraud_fv.init_serving(1)\n",
    "\n",
    "        # load the trained model\n",
    "        self.model = joblib.load(os.environ[\"ARTIFACT_FILES_PATH\"] + \"/xgboost_fraud_online_model.pkl\")\n",
    "        \n",
    "        # initialize monitoring feature group\n",
    "        self.monitoring_fg = fs.get_feature_group(\"monitoring_fraud_model\", 2)\n",
    "        \n",
    "        print(\"Initialization Complete\")\n",
    "\n",
    "    def predict(self, inputs):\n",
    "        feature_vector = self.prepare_feature_vector(inputs)\n",
    "        prediction = self.model.predict(np.asarray(feature_vector).reshape(1, -1)).tolist()\n",
    "        self.monitor(inputs, feature_vector, prediction[0])\n",
    "       \n",
    "        return prediction\n",
    "    \n",
    "    \n",
    "    def prepare_feature_vector(self, inputs): \n",
    "        country = self.profiles_country_fv.get_feature_vector(entry={'cc_num': inputs[0]['cc_num']})[0]\n",
    "        is_transaction_abroad = transaction_abroad(pd.Series(data=inputs[0]['country']), pd.Series(data=country))\n",
    "        \n",
    "        feature_vector = self.fraud_fv.get_feature_vector(entry={'cc_num': inputs[0]['cc_num']},\n",
    "                                               passed_features={\n",
    "                                                  'amount': inputs[0]['amount'],\n",
    "                                                  'category': inputs[0]['category'],\n",
    "                                                  'is_transaction_abroad': is_transaction_abroad[0],\n",
    "                                              },\n",
    "                                              return_type=\"pandas\")\n",
    "        \n",
    "        return feature_vector\n",
    "    \n",
    "    def monitor(self, inputs, feature_vector, prediction):\n",
    "        pdf = feature_vector\n",
    "        \n",
    "        pdf['cc_num'] = inputs[0]['cc_num']\n",
    "        pdf['event_time'] = pd.Timestamp.now()\n",
    "        pdf['prediction'] = prediction\n",
    "        \n",
    "        self.monitoring_fg.multi_part_insert(pdf)\n"
   ]
  },
  {
   "cell_type": "code",
   "execution_count": null,
   "id": "cd97e49a",
   "metadata": {},
   "outputs": [],
   "source": [
    "# Get the dataset API for the current project\n",
    "dataset_api = project.get_dataset_api()\n",
    "\n",
    "# Specify the local file path of the Python script to be uploaded\n",
    "local_script_path = \"/tmp/predict_example.py\"\n",
    "\n",
    "# Upload the Python script to the \"Models\", and overwrite if it already exists\n",
    "uploaded_file_path = dataset_api.upload(local_script_path, \"Models\", overwrite=True)\n",
    "\n",
    "# Create the full path to the uploaded script for future reference\n",
    "predictor_script_path = os.path.join(\"/Projects\", project.name, uploaded_file_path)"
   ]
  },
  {
   "cell_type": "code",
   "execution_count": null,
   "id": "8d1cb41e",
   "metadata": {},
   "outputs": [],
   "source": [
    "# Deploy the fraud model\n",
    "deployment = model.deploy(\n",
    "    name=\"fraudonlinedep1\",\n",
    "    script_file=predictor_script_path,\n",
    ")"
   ]
  },
  {
   "cell_type": "code",
   "execution_count": null,
   "id": "733af128",
   "metadata": {},
   "outputs": [],
   "source": [
    "deployment.start(await_running=300)"
   ]
  },
  {
   "cell_type": "code",
   "execution_count": null,
   "id": "3cdfa3ed",
   "metadata": {},
   "outputs": [],
   "source": [
    "# Print the name of the deployment\n",
    "print(\"Deployment: \" + deployment.name)\n",
    "\n",
    "# Display information about the deployment\n",
    "deployment.describe()"
   ]
  },
  {
   "cell_type": "code",
   "execution_count": null,
   "id": "e47501ee",
   "metadata": {},
   "outputs": [],
   "source": [
    "# Test the model\n",
    "deployment.predict(inputs = {\n",
    "    'cc_num': 4738877982476642,\n",
    "    'amount': 123,\n",
    "    'category': 'Cash Withdrawal',\n",
    "    'country': 'US'\n",
    "})"
   ]
  },
  {
   "cell_type": "code",
   "execution_count": null,
   "id": "ac0c9cae",
   "metadata": {},
   "outputs": [],
   "source": []
  },
  {
   "cell_type": "code",
   "execution_count": null,
   "id": "e85709f9",
   "metadata": {},
   "outputs": [],
   "source": []
  }
 ],
 "metadata": {
  "kernelspec": {
   "display_name": "Python 3",
   "language": "python",
   "name": "python3"
  },
  "language_info": {
   "codemirror_mode": {
    "name": "ipython",
    "version": 3
   },
   "file_extension": ".py",
   "mimetype": "text/x-python",
   "name": "python",
   "nbconvert_exporter": "python",
   "pygments_lexer": "ipython3",
   "version": "3.10.11"
  }
 },
 "nbformat": 4,
 "nbformat_minor": 5
}
