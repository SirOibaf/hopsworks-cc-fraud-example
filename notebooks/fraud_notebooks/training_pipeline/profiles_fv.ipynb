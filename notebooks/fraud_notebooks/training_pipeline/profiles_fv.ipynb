{
 "cells": [
  {
   "cell_type": "code",
   "execution_count": null,
   "id": "4401a049",
   "metadata": {},
   "outputs": [],
   "source": [
    "import hsfs\n",
    "connection = hsfs.connection()\n",
    "fs = connection.get_feature_store()"
   ]
  },
  {
   "cell_type": "code",
   "execution_count": null,
   "id": "6acd269b",
   "metadata": {},
   "outputs": [],
   "source": [
    "profiles = fs.get_feature_group(\"profiles\", version=1)"
   ]
  },
  {
   "cell_type": "code",
   "execution_count": null,
   "id": "eca8066c",
   "metadata": {},
   "outputs": [],
   "source": [
    "query = profiles.select(['country'])"
   ]
  },
  {
   "cell_type": "code",
   "execution_count": null,
   "id": "bce7927f",
   "metadata": {},
   "outputs": [],
   "source": [
    "fv = fs.create_feature_view(\n",
    "    name=\"profiles_country\",\n",
    "    version=1,\n",
    "    query=query\n",
    ")"
   ]
  },
  {
   "cell_type": "code",
   "execution_count": null,
   "id": "bbc58902",
   "metadata": {},
   "outputs": [],
   "source": []
  }
 ],
 "metadata": {
  "kernelspec": {
   "display_name": "Python 3",
   "language": "python",
   "name": "python3"
  },
  "language_info": {
   "codemirror_mode": {
    "name": "ipython",
    "version": 3
   },
   "file_extension": ".py",
   "mimetype": "text/x-python",
   "name": "python",
   "nbconvert_exporter": "python",
   "pygments_lexer": "ipython3",
   "version": "3.10.11"
  }
 },
 "nbformat": 4,
 "nbformat_minor": 5
}
