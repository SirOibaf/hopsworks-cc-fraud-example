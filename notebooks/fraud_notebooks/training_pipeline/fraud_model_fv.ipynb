{
 "cells": [
  {
   "cell_type": "code",
   "execution_count": null,
   "id": "aa7fb833",
   "metadata": {},
   "outputs": [],
   "source": [
    "import hopsworks\n",
    "project = hopsworks.login()\n",
    "fs = project.get_feature_store()"
   ]
  },
  {
   "cell_type": "code",
   "execution_count": null,
   "id": "b48c58e8",
   "metadata": {},
   "outputs": [],
   "source": [
    "transactions = fs.get_feature_group(\"transactions\", version=1)\n",
    "profiles = fs.get_feature_group(\"profiles\", version=1)\n",
    "profiles_activity_10m = fs.get_feature_group(\"profiles_activity_10m\", version=1)"
   ]
  },
  {
   "cell_type": "code",
   "execution_count": null,
   "id": "11e040ef",
   "metadata": {},
   "outputs": [],
   "source": [
    "query = transactions.select(['fraud_label', 'amount', 'category', 'is_transaction_abroad']).join(\n",
    "    profiles.select_all(include_primary_key=False, include_event_time=False), on=\"cc_num\"\n",
    ").join(\n",
    "    profiles_activity_10m.select(['num_trans_per_10m', 'avg_amt_per_10m']), on=\"cc_num\"\n",
    ")"
   ]
  },
  {
   "cell_type": "code",
   "execution_count": null,
   "id": "0ca3a7dd",
   "metadata": {},
   "outputs": [],
   "source": [
    "fv = fs.get_or_create_feature_view(\n",
    "    name=\"fraud_model\",\n",
    "    version=1,\n",
    "    query=query,\n",
    "    labels=['fraud_label'],\n",
    "    transformation_functions={\n",
    "        'country': fs.get_transformation_function(name=\"label_encoder\"),\n",
    "        'category': fs.get_transformation_function(name=\"label_encoder\"),\n",
    "    }\n",
    ")"
   ]
  },
  {
   "cell_type": "code",
   "execution_count": null,
   "id": "b884d66e",
   "metadata": {},
   "outputs": [],
   "source": [
    "query.to_string()"
   ]
  },
  {
   "cell_type": "code",
   "execution_count": null,
   "id": "14225d63",
   "metadata": {},
   "outputs": [],
   "source": [
    "fv.create_train_test_split(\n",
    "    test_size=0.2,\n",
    "    data_format=\"csv\",\n",
    "    coalesce=True,\n",
    "    statistics_config={'histograms': True, 'correlations': True},\n",
    ")"
   ]
  },
  {
   "cell_type": "code",
   "execution_count": null,
   "id": "7c72f3f3",
   "metadata": {},
   "outputs": [],
   "source": []
  }
 ],
 "metadata": {
  "kernelspec": {
   "display_name": "Python 3",
   "language": "python",
   "name": "python3"
  },
  "language_info": {
   "codemirror_mode": {
    "name": "ipython",
    "version": 3
   },
   "file_extension": ".py",
   "mimetype": "text/x-python",
   "name": "python",
   "nbconvert_exporter": "python",
   "pygments_lexer": "ipython3",
   "version": "3.10.11"
  }
 },
 "nbformat": 4,
 "nbformat_minor": 5
}
