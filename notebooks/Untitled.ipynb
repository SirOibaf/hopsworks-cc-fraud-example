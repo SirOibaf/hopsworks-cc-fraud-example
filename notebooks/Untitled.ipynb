{
 "cells": [
  {
   "cell_type": "code",
   "execution_count": 1,
   "id": "b8e3fdd5",
   "metadata": {},
   "outputs": [
    {
     "name": "stdout",
     "output_type": "stream",
     "text": [
      "Starting Spark application\n"
     ]
    },
    {
     "data": {
      "text/html": [
       "<table>\n",
       "<tr><th>ID</th><th>Application ID</th><th>Kind</th><th>State</th><th>Spark UI</th><th>Driver log</th></tr><tr><td>12</td><td>application_1709657904861_0025</td><td>pyspark</td><td>idle</td><td><a target=\"_blank\" href=\"/hopsworks-api/yarnui/https://ip-172-16-4-223.us-east-2.compute.internal:8089/proxy/application_1709657904861_0025/\">Link</a></td><td><a target=\"_blank\" href=\"/hopsworks-api/yarnui/https://ip-172-16-4-197.us-east-2.compute.internal:8044/node/containerlogs/container_e02_1709657904861_0025_01_000001/live_coding__fabiopoc\">Link</a></td></tr></table>"
      ],
      "text/plain": [
       "<IPython.core.display.HTML object>"
      ]
     },
     "metadata": {},
     "output_type": "display_data"
    },
    {
     "name": "stdout",
     "output_type": "stream",
     "text": [
      "SparkSession available as 'spark'.\n",
      "<pyspark.sql.session.SparkSession object at 0x7f151db73340>"
     ]
    }
   ],
   "source": [
    "spark"
   ]
  },
  {
   "cell_type": "code",
   "execution_count": 2,
   "id": "3b21cb5c",
   "metadata": {},
   "outputs": [
    {
     "name": "stdout",
     "output_type": "stream",
     "text": [
      "+----------------+-------------------+------------------+--------------------+----------------------+-------------------+--------------------+--------------------+-------+\n",
      "|          cc_num|         event_time|               age|  _hoodie_record_key|_hoodie_partition_path|_hoodie_commit_time|   _hoodie_file_name|_hoodie_commit_seqno|country|\n",
      "+----------------+-------------------+------------------+--------------------+----------------------+-------------------+--------------------+--------------------+-------+\n",
      "|4625641055714032|2024-03-06 00:00:24|31.504110350076104|cc_num:4625641055...|                    US|  20240306123146376|e427841c-c4b7-48e...|20240306123146376...|     US|\n",
      "+----------------+-------------------+------------------+--------------------+----------------------+-------------------+--------------------+--------------------+-------+\n",
      "only showing top 1 row"
     ]
    }
   ],
   "source": [
    "spark.sql(\"SELECT * FROM live_coding_featurestore.profiles_1\").show(1)"
   ]
  },
  {
   "cell_type": "code",
   "execution_count": 8,
   "id": "698c6248",
   "metadata": {},
   "outputs": [],
   "source": [
    "df = spark.read.format(\"hudi\").load(\"hdfs://namenode.service.consul:8020/apps/hive/warehouse/live_coding_featurestore.db/profiles_1\")"
   ]
  },
  {
   "cell_type": "code",
   "execution_count": 5,
   "id": "03ecc417",
   "metadata": {},
   "outputs": [],
   "source": [
    "df.createOrReplaceTempView(\"test\")"
   ]
  },
  {
   "cell_type": "code",
   "execution_count": 6,
   "id": "2cd6ee28",
   "metadata": {},
   "outputs": [
    {
     "name": "stdout",
     "output_type": "stream",
     "text": [
      "+-------------------+--------------------+--------------------+----------------------+--------------------+----------------+-------------------+------------------+-------+\n",
      "|_hoodie_commit_time|_hoodie_commit_seqno|  _hoodie_record_key|_hoodie_partition_path|   _hoodie_file_name|          cc_num|         event_time|               age|country|\n",
      "+-------------------+--------------------+--------------------+----------------------+--------------------+----------------+-------------------+------------------+-------+\n",
      "|  20240306123146376|20240306123146376...|cc_num:4625641055...|                    US|e427841c-c4b7-48e...|4625641055714032|2024-03-06 00:00:24|31.504110350076104|     US|\n",
      "+-------------------+--------------------+--------------------+----------------------+--------------------+----------------+-------------------+------------------+-------+\n",
      "only showing top 1 row"
     ]
    }
   ],
   "source": [
    "spark.sql(\"SELECT * from test\").show(1)"
   ]
  },
  {
   "cell_type": "code",
   "execution_count": null,
   "id": "2450bb99",
   "metadata": {},
   "outputs": [],
   "source": []
  }
 ],
 "metadata": {
  "kernelspec": {
   "display_name": "PySpark",
   "language": "python",
   "name": "pysparkkernel"
  },
  "language_info": {
   "codemirror_mode": {
    "name": "python",
    "version": 3
   },
   "mimetype": "text/x-python",
   "name": "pyspark",
   "pygments_lexer": "python3"
  }
 },
 "nbformat": 4,
 "nbformat_minor": 5
}
